{
 "cells": [
  {
   "cell_type": "markdown",
   "metadata": {},
   "source": [
    "<h2>List of Examples</h2>"
   ]
  },
  {
   "cell_type": "markdown",
   "metadata": {},
   "source": [
    "<h4>Discrete Gaussian $1$D</h4>"
   ]
  },
  {
   "cell_type": "code",
   "execution_count": 1,
   "metadata": {
    "collapsed": false
   },
   "outputs": [],
   "source": [
    "home=homedir();push!(LOAD_PATH,pwd());\n",
    "using sfw,blasso,toolbox,PyPlot"
   ]
  },
  {
   "cell_type": "code",
   "execution_count": 2,
   "metadata": {
    "collapsed": false
   },
   "outputs": [
    {
     "name": "stdout",
     "output_type": "stream",
     "text": [
      "blasso.gaussian\n"
     ]
    }
   ],
   "source": [
    "# Model constants\n",
    "sigmax=.05;K=50;\n",
    "# Bounds of domain\n",
    "bounds=[-1.0,1.0];\n",
    "# Option solver\n",
    "options=sfw.sfw_options();\n",
    "# Load kernel attributes\n",
    "kernel=blasso.setKernel(K,sigmax,bounds);\n",
    "println(typeof(kernel))"
   ]
  },
  {
   "cell_type": "code",
   "execution_count": 3,
   "metadata": {
    "collapsed": true
   },
   "outputs": [],
   "source": [
    "# Initial measure\n",
    "a0=[0.8,0.8,0.8,0.8];\n",
    "x0=[-.5,-.1,.1,.5];\n",
    "# Noise\n",
    "srand(1);\n",
    "w0=randn(K);\n",
    "sigma=.01;\n",
    "# Load operator Phi\n",
    "op=blasso.setoperator(kernel,a0,x0,sigma*w0);"
   ]
  },
  {
   "cell_type": "code",
   "execution_count": 4,
   "metadata": {
    "collapsed": true
   },
   "outputs": [],
   "source": [
    "lambda=.5;\n",
    "# Load objective function\n",
    "fobj=blasso.setfobj(op,lambda);"
   ]
  },
  {
   "cell_type": "code",
   "execution_count": 5,
   "metadata": {
    "collapsed": false
   },
   "outputs": [
    {
     "name": "stdout",
     "output_type": "stream",
     "text": [
      "---------------------------------------\n",
      "Iteration no 1 :\n",
      "New Position : [-0.0956974]\n",
      "### Before BFGS ###\n",
      "Amp/Pos : [0.813016,-0.0956974]\n",
      "Energy : 132.870264392929\n",
      "### After BFGS ###\n",
      "Amp/Pos : [0.813016,-0.0956971]\n",
      "Energy : 132.87026439219642\n",
      "---------------------------------------\n",
      "Iteration no 2 :\n",
      "New Position : [0.100547]\n",
      "### Before BFGS ###\n",
      "Amp/Pos : [0.796161,0.793014,-0.0956971,0.100547]\n",
      "Energy : 89.4265263126869\n",
      "### After BFGS ###\n",
      "Amp/Pos : [0.797107,0.795652,-0.0999388,0.0998945]\n",
      "Energy : 89.27117525491944\n",
      "---------------------------------------\n",
      "Iteration no 3 :\n",
      "New Position : [-0.500072]\n",
      "### Before BFGS ###\n",
      "Amp/Pos : [0.797107,0.795652,0.796872,-0.0999388,0.0998945,-0.500072]\n",
      "Energy : 45.38397111327471\n",
      "### After BFGS ###\n",
      "Amp/Pos : [0.797107,0.795652,0.796872,-0.0999387,0.0998945,-0.500072]\n",
      "Energy : 45.38397111254895\n",
      "---------------------------------------\n",
      "Iteration no 4 :\n",
      "New Position : [0.499858]\n",
      "### Before BFGS ###\n",
      "Amp/Pos : [0.797107,0.795652,0.796872,0.795949,-0.0999387,0.0998945,-0.500072,0.499858]\n",
      "Energy : 1.5983198371388934\n",
      "### After BFGS ###\n",
      "Amp/Pos : [0.797107,0.795652,0.796872,0.795949,-0.0999387,0.0998944,-0.500072,0.499858]\n",
      "Energy : 1.5983198364157298\n",
      "\n",
      "SUCCEED! In 4 iterations.\n",
      "  4.488159 seconds (4.38 M allocations: 185.883 MB, 1.62% gc time)\n"
     ]
    }
   ],
   "source": [
    "@time result=sfw.sfw4blasso(fobj,kernel,op,options); # Solve problem"
   ]
  },
  {
   "cell_type": "code",
   "execution_count": 6,
   "metadata": {
    "collapsed": false
   },
   "outputs": [
    {
     "name": "stdout",
     "output_type": "stream",
     "text": [
      "###############################################\n",
      "####### Solution of BLASSO in 4/20 iter! #######\n",
      "###############################################\n",
      " - u         : [0.797107,0.795652,0.796872,0.795949,-0.0999387,0.0998944,-0.500072,0.499858]\n",
      " - fobj      : 1.5983198364157298\n",
      " - g         : [6.02511e-9,2.24011e-9,-1.05673e-10,-1.46826e-7,-3.67837e-10,1.39294e-8,-1.89995e-9,1.01707e-7]\n",
      " - max(etaL) : [225.761,220.132,221.297,221.042,1.0]\n",
      " - f_converged : (tol 1.0e-15) : Bool[true,true,true,true]\n",
      " - u_converged : (tol 1.0e-14) : Bool[false,true,false,false]\n",
      " - g_converged :  (tol 1.0e-11) : Bool[false,false,false,false]\n",
      " - max lu iter hits : (max 10000) : Bool[false,false,false,false]\n",
      " - Nb iter local update          : [3,10,8,9]\n",
      " - Warning newPos : [0,0,0,0,0]\n",
      " - Warning step   : [0,0,0,0]\n"
     ]
    }
   ],
   "source": [
    "sfw.show_result(result, options)"
   ]
  },
  {
   "cell_type": "code",
   "execution_count": 7,
   "metadata": {
    "collapsed": false
   },
   "outputs": [
    {
     "data": {
      "image/png": "[encoded data removed]",
      "text/plain": [
       "PyPlot.Figure(PyObject <matplotlib.figure.Figure object at 0x323b70610>)"
      ]
     },
     "metadata": {},
     "output_type": "display_data"
    }
   ],
   "source": [
    "blasso.plotSpikes(vcat(a0,x0), result.u, op)"
   ]
  },
  {
   "cell_type": "code",
   "execution_count": null,
   "metadata": {
    "collapsed": true
   },
   "outputs": [],
   "source": []
  },
  {
   "cell_type": "markdown",
   "metadata": {},
   "source": [
    "<h4>Dirichlet $1$D</h4>"
   ]
  },
  {
   "cell_type": "code",
   "execution_count": 9,
   "metadata": {
    "collapsed": false
   },
   "outputs": [
    {
     "name": "stdout",
     "output_type": "stream",
     "text": [
      "blasso.dirichlet\n"
     ]
    }
   ],
   "source": [
    "# Model constants\n",
    "fc=15;K=2fc+1;\n",
    "# Option solver\n",
    "options=sfw.sfw_options(show_mainIter=false,show_newPos=false);\n",
    "# Load kernel attributes\n",
    "kernel=blasso.setKernel(fc);\n",
    "println(typeof(kernel))"
   ]
  },
  {
   "cell_type": "code",
   "execution_count": 41,
   "metadata": {
    "collapsed": true
   },
   "outputs": [],
   "source": [
    "# Initial measure\n",
    "a0=[1.0,1.0,.1,.7,.8,.5,.5,.59,1.1,.3];\n",
    "x0=[.2,.3,.35,.5,.7,.1,.13,.62,.77,.9];\n",
    "# Noise\n",
    "srand(1);\n",
    "w0=randn(K);\n",
    "sigma=.01;\n",
    "# Load operator Phi\n",
    "op=blasso.setoperator(kernel,a0,x0,sigma*w0);"
   ]
  },
  {
   "cell_type": "code",
   "execution_count": 42,
   "metadata": {
    "collapsed": true
   },
   "outputs": [],
   "source": [
    "lambda=0.3;\n",
    "# Load objective function\n",
    "fobj=blasso.setfobj(op,lambda);"
   ]
  },
  {
   "cell_type": "code",
   "execution_count": 43,
   "metadata": {
    "collapsed": false
   },
   "outputs": [
    {
     "name": "stdout",
     "output_type": "stream",
     "text": [
      "\n",
      "SUCCEED! In 10 iterations.\n",
      "  0.181974 seconds (396.73 k allocations: 74.870 MB, 5.53% gc time)\n"
     ]
    }
   ],
   "source": [
    "@time result=sfw.sfw4blasso(fobj,kernel,op,options); # Solve problem"
   ]
  },
  {
   "cell_type": "code",
   "execution_count": 44,
   "metadata": {
    "collapsed": false
   },
   "outputs": [
    {
     "name": "stdout",
     "output_type": "stream",
     "text": [
      "###############################################\n",
      "####### Solution of BLASSO in 10/20 iter! #######\n",
      "###############################################\n",
      " - u         : [1.08992,0.989483,0.98791,0.790014,0.49705,0.691617,0.581508,0.293391,0.473255,0.0937313,0.770027,0.200163,0.299922,0.699925,0.100813,0.499993,0.620098,0.900246,0.130195,0.349827]\n",
      " - fobj      : 1.9634148634025568\n",
      " - g         : [9.67344e-9,2.16747e-8,-8.38918e-9,2.22078e-8,-2.00031e-7,1.99256e-8,8.83481e-9,2.62528e-11,2.17466e-7,-2.24076e-9,-7.03057e-10,6.3762e-8,-3.75993e-8,5.65549e-8,-1.28295e-7,-1.37174e-7,-2.39009e-7,4.67364e-7,-3.0522e-7,-2.29974e-7]\n",
      " - max(etaL) : [127.982,100.982,100.444,91.0599,70.8677,67.189,59.8251,27.7805,18.4048,9.85134,1.0]\n",
      " - f_converged : (tol 1.0e-15) : Bool[true,true,true,false,false,true,true,true,true,true]\n",
      " - u_converged : (tol 1.0e-14) : Bool[false,true,true,true,true,true,true,true,false,false]\n",
      " - g_converged :  (tol 1.0e-11) : Bool[false,false,false,false,false,false,false,false,false,false]\n",
      " - max lu iter hits : (max 10000) : Bool[false,false,false,false,false,false,false,false,false,false]\n",
      " - Nb iter local update          : [2,11,15,21,21,25,24,31,111,203]\n",
      " - Warning newPos : [0,0,0,0,0,0,0,0,0,0,0]\n",
      " - Warning step   : [0,0,0,0,0,0,0,0,0,0]\n"
     ]
    }
   ],
   "source": [
    "sfw.show_result(result,options);"
   ]
  },
  {
   "cell_type": "code",
   "execution_count": 45,
   "metadata": {
    "collapsed": false
   },
   "outputs": [
    {
     "data": {
      "image/png": "[encoded data removed]",
      "text/plain": [
       "PyPlot.Figure(PyObject <matplotlib.figure.Figure object at 0x323bffbd0>)"
      ]
     },
     "metadata": {},
     "output_type": "display_data"
    }
   ],
   "source": [
    "blasso.plotSpikes(vcat(a0,x0), result.u, op)"
   ]
  },
  {
   "cell_type": "code",
   "execution_count": 46,
   "metadata": {
    "collapsed": false
   },
   "outputs": [],
   "source": [
    "etaV=certificate.computeEtaV(x0,sign(a0),op);\n",
    "etaL,d1etaL,d2etaL=certificate.computeEtaL(result.u,op,lambda);"
   ]
  },
  {
   "cell_type": "code",
   "execution_count": 47,
   "metadata": {
    "collapsed": false
   },
   "outputs": [
    {
     "data": {
      "image/png": "[encoded data removed]",
      "text/plain": [
       "PyPlot.Figure(PyObject <matplotlib.figure.Figure object at 0x329b75a10>)"
      ]
     },
     "metadata": {},
     "output_type": "display_data"
    }
   ],
   "source": [
    "figure(figsize=(4,3))\n",
    "tt=collect(linspace(0.0,1.0,500));\n",
    "plot(tt,map(etaV,tt),color=\"b\",lw=1.0,label=L\"$\\eta_V$\")\n",
    "plot(tt,[etaL([tt[i]]) for i in 1:length(tt)],color=\"r\",lw=1.0,label=L\"$\\eta_L$\")\n",
    "ax=gca();\n",
    "ax[:set_xlim]([0.0,1.0]);\n",
    "legend()\n",
    "show()"
   ]
  },
  {
   "cell_type": "code",
   "execution_count": null,
   "metadata": {
    "collapsed": true
   },
   "outputs": [],
   "source": []
  },
  {
   "cell_type": "markdown",
   "metadata": {},
   "source": [
    "<h4>Discritized normalized Laplace $1$D</h4>"
   ]
  },
  {
   "cell_type": "code",
   "execution_count": 63,
   "metadata": {
    "collapsed": false
   },
   "outputs": [
    {
     "name": "stdout",
     "output_type": "stream",
     "text": [
      "blasso.dnlaplace\n"
     ]
    }
   ],
   "source": [
    "bounds=zeros(2);bounds[1],bounds[2]=1e-4,.8;\n",
    "K=5;\n",
    "s=[0.0,.3,.8,10.0,25.0]; # discretization of s->e^{-sx}\n",
    "\n",
    "a0=[1.0,1.0];\n",
    "x0=[0.15,0.62];\n",
    "u0=vcat(a0,x0);\n",
    "\n",
    "kernel=blasso.setKernel(true,bounds,pz); # Load kernel attributes\n",
    "println(typeof(kernel))\n",
    "\n",
    "options=sfw.sfw_options();\n",
    "\n",
    "srand(1);\n",
    "w0=randn(length(pz));\n",
    "sigma=0.001;\n",
    "op=blasso.setoperator(kernel,a0,x0,sigma*w0); # Load operator Phi"
   ]
  },
  {
   "cell_type": "code",
   "execution_count": 64,
   "metadata": {
    "collapsed": false
   },
   "outputs": [
    {
     "name": "stdout",
     "output_type": "stream",
     "text": [
      "---------------------------------------\n",
      "Iteration no 1 :\n",
      "New Position : [0.251632]\n",
      "### Before BFGS ###\n",
      "Amp/Pos : [2.97627,0.251632]\n",
      "Energy : 0.31110787976788606\n",
      "### After BFGS ###\n",
      "Amp/Pos : [2.97627,0.251632]\n",
      "Energy : 0.31110787976788606\n",
      "---------------------------------------\n",
      "Iteration no 2 :\n",
      "New Position : [0.8]\n",
      "### Before BFGS ###\n",
      "Amp/Pos : [2.5433,0.439418,0.251632,0.8]\n",
      "Energy : 0.30829387252934093\n",
      "### After BFGS ###\n",
      "Amp/Pos : [1.74367,1.24772,0.162529,0.634674]\n",
      "Energy : 0.30426502192319616\n",
      "\n",
      "SUCCEED! In 2 iterations.\n"
     ]
    }
   ],
   "source": [
    "lambda=.1;\n",
    "fobj=blasso.setfobj(op,lambda); # Load objective function\n",
    "result=sfw.sfw4blasso(fobj,kernel,op,options); # Solve problem"
   ]
  },
  {
   "cell_type": "code",
   "execution_count": 65,
   "metadata": {
    "collapsed": false
   },
   "outputs": [
    {
     "data": {
      "image/png": "[encoded data removed]",
      "text/plain": [
       "PyPlot.Figure(PyObject <matplotlib.figure.Figure object at 0x329dd0e10>)"
      ]
     },
     "metadata": {},
     "output_type": "display_data"
    }
   ],
   "source": [
    "blasso.plotSpikes(vcat(a0,x0), result.u, op)"
   ]
  },
  {
   "cell_type": "code",
   "execution_count": 66,
   "metadata": {
    "collapsed": false
   },
   "outputs": [],
   "source": [
    "etaV=certificate.computeEtaV(x0,sign(a0),op);\n",
    "etaL,d1etaL,d2etaL=certificate.computeEtaL(result.u_mainIter[end],op,lambda);"
   ]
  },
  {
   "cell_type": "code",
   "execution_count": 67,
   "metadata": {
    "collapsed": false
   },
   "outputs": [
    {
     "data": {
      "image/png": "[encoded data removed]",
      "text/plain": [
       "PyPlot.Figure(PyObject <matplotlib.figure.Figure object at 0x3238de150>)"
      ]
     },
     "metadata": {},
     "output_type": "display_data"
    }
   ],
   "source": [
    "figure(figsize=(4,3))\n",
    "tt=collect(linspace(0.0,1.0,500));\n",
    "plot(tt,map(etaV,tt),color=\"b\",lw=1.0,label=L\"$\\eta_V$\")\n",
    "plot(tt,[etaL([tt[i]]) for i in 1:length(tt)],color=\"r\",lw=1.0,label=L\"$\\eta_L$\")\n",
    "ax=gca();\n",
    "ax[:set_xlim]([0.0,1.0]);\n",
    "legend()\n",
    "show()"
   ]
  },
  {
   "cell_type": "code",
   "execution_count": null,
   "metadata": {
    "collapsed": true
   },
   "outputs": [],
   "source": []
  }
 ],
 "metadata": {
  "kernelspec": {
   "display_name": "Julia 0.5.1",
   "language": "julia",
   "name": "julia-0.5"
  },
  "language_info": {
   "file_extension": ".jl",
   "mimetype": "application/julia",
   "name": "julia",
   "version": "0.5.1"
  }
 },
 "nbformat": 4,
 "nbformat_minor": 1
}
